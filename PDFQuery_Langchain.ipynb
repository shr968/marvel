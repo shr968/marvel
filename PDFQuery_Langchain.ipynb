{
  "nbformat": 4,
  "nbformat_minor": 0,
  "metadata": {
    "colab": {
      "provenance": [],
      "authorship_tag": "ABX9TyN3osN+wiq6fzatCXwZ24jg",
      "include_colab_link": true
    },
    "kernelspec": {
      "name": "python3",
      "display_name": "Python 3"
    },
    "language_info": {
      "name": "python"
    }
  },
  "cells": [
    {
      "cell_type": "markdown",
      "metadata": {
        "id": "view-in-github",
        "colab_type": "text"
      },
      "source": [
        "<a href=\"https://colab.research.google.com/github/shr968/marvel/blob/main/PDFQuery_Langchain.ipynb\" target=\"_parent\"><img src=\"https://colab.research.google.com/assets/colab-badge.svg\" alt=\"Open In Colab\"/></a>"
      ]
    },
    {
      "cell_type": "code",
      "source": [
        "!pip install fpdf"
      ],
      "metadata": {
        "colab": {
          "base_uri": "https://localhost:8080/"
        },
        "id": "44MmTflNvAjz",
        "outputId": "158b36e8-460a-4425-da92-934d26ae4a8d"
      },
      "execution_count": 23,
      "outputs": [
        {
          "output_type": "stream",
          "name": "stdout",
          "text": [
            "Collecting fpdf\n",
            "  Downloading fpdf-1.7.2.tar.gz (39 kB)\n",
            "  Preparing metadata (setup.py) ... \u001b[?25l\u001b[?25hdone\n",
            "Building wheels for collected packages: fpdf\n",
            "  Building wheel for fpdf (setup.py) ... \u001b[?25l\u001b[?25hdone\n",
            "  Created wheel for fpdf: filename=fpdf-1.7.2-py2.py3-none-any.whl size=40704 sha256=6e9840506f6f48984a07a0e944052d3e42a44a965c13deef633b53cb8f757475\n",
            "  Stored in directory: /root/.cache/pip/wheels/65/4f/66/bbda9866da446a72e206d6484cd97381cbc7859a7068541c36\n",
            "Successfully built fpdf\n",
            "Installing collected packages: fpdf\n",
            "Successfully installed fpdf-1.7.2\n"
          ]
        }
      ]
    },
    {
      "cell_type": "code",
      "source": [
        "from fpdf import FPDF\n",
        "\n",
        "# Create a simple PDF with sample text\n",
        "pdf = FPDF()\n",
        "pdf.add_page()\n",
        "pdf.set_font(\"Arial\", size=12)\n",
        "\n",
        "text = \"\"\"This is a test PDF document.\n",
        "It contains multiple pages to test text extraction.\n",
        "The purpose of this document is to check PDF querying.\n",
        "The conclusion of this document is that LangChain works fine.\n",
        "\"\"\"\n",
        "\n",
        "# Add text to multiple pages\n",
        "for i in range(1, 4):\n",
        "    pdf.cell(200, 10, f\"Page {i}\", ln=True, align='C')\n",
        "    pdf.multi_cell(190, 10, text)\n",
        "    pdf.ln(10)\n",
        "\n",
        "# Save the PDF\n",
        "pdf_path = \"/content/test_document.pdf\"\n",
        "pdf.output(pdf_path)\n",
        "print(f\"Sample PDF created at {pdf_path}\")\n"
      ],
      "metadata": {
        "colab": {
          "base_uri": "https://localhost:8080/"
        },
        "id": "eLV4HJ4Hu3qm",
        "outputId": "d85295c9-edcd-47d9-d427-6977eda9f633"
      },
      "execution_count": 24,
      "outputs": [
        {
          "output_type": "stream",
          "name": "stdout",
          "text": [
            "Sample PDF created at /content/test_document.pdf\n"
          ]
        }
      ]
    },
    {
      "cell_type": "code",
      "source": [
        "import os\n",
        "from langchain.document_loaders import PyPDFLoader\n",
        "from langchain.embeddings import HuggingFaceEmbeddings\n",
        "from langchain.vectorstores import FAISS\n",
        "\n",
        "def load_pdf(file_path):\n",
        "    if not os.path.exists(file_path):\n",
        "        raise FileNotFoundError(f\"File {file_path} not found.\")\n",
        "    loader = PyPDFLoader(file_path)\n",
        "    docs = loader.load()\n",
        "    return docs\n",
        "\n",
        "def create_faiss_index(docs):\n",
        "    full_text = \"\\n\".join([doc.page_content for doc in docs])\n",
        "    embeddings = HuggingFaceEmbeddings(model_name=\"all-MiniLM-L6-v2\")\n",
        "    vector_store = FAISS.from_texts([full_text], embeddings)\n",
        "    return vector_store, embeddings\n",
        "\n",
        "\n",
        "\n",
        "def query_pdf(vector_store, embeddings, query):\n",
        "    query_embedding = embeddings.embed_query(query)\n",
        "    results = vector_store.similarity_search_by_vector(query_embedding, k=1)\n",
        "    return results\n",
        "\n",
        "if __name__ == \"__main__\":\n",
        "    file_path = \"/content/test_document.pdf\"\n",
        "    query = \"What is the conclusion of the document?\"\n",
        "\n",
        "    print(\"Loading PDF...\")\n",
        "    docs = load_pdf(file_path)\n",
        "\n",
        "    print(\"Creating FAISS index...\")\n",
        "    vector_store, embeddings = create_faiss_index(docs)\n",
        "\n",
        "    print(f\"Querying: {query}\")\n",
        "    results = query_pdf(vector_store, embeddings, query)\n",
        "\n",
        "    print(\"\\nTop Matching Sections:\")\n",
        "    for res in results:\n",
        "        print(res.page_content)\n",
        "        print(\"-\" * 50)\n"
      ],
      "metadata": {
        "colab": {
          "base_uri": "https://localhost:8080/"
        },
        "id": "igfJJ3aTthgu",
        "outputId": "96d0d6c2-21b2-4def-9687-2d7ab2669f67"
      },
      "execution_count": 30,
      "outputs": [
        {
          "output_type": "stream",
          "name": "stdout",
          "text": [
            "Loading PDF...\n",
            "Creating FAISS index...\n",
            "Querying: What is the conclusion of the document?\n",
            "\n",
            "Top Matching Sections:\n",
            "Page 1\n",
            "This is a test PDF document. \n",
            "It contains multiple pages to test text extraction.\n",
            "The purpose of this document is to check PDF querying.\n",
            "The conclusion of this document is that LangChain works fine.\n",
            "Page 2\n",
            "This is a test PDF document. \n",
            "It contains multiple pages to test text extraction.\n",
            "The purpose of this document is to check PDF querying.\n",
            "The conclusion of this document is that LangChain works fine.\n",
            "Page 3\n",
            "This is a test PDF document. \n",
            "It contains multiple pages to test text extraction.\n",
            "The purpose of this document is to check PDF querying.\n",
            "The conclusion of this document is that LangChain works fine.\n",
            "--------------------------------------------------\n"
          ]
        }
      ]
    }
  ]
}