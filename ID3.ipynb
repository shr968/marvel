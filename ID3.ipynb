{
  "nbformat": 4,
  "nbformat_minor": 0,
  "metadata": {
    "colab": {
      "provenance": [],
      "authorship_tag": "ABX9TyNEMj5BH0A3HVqtLdcenmZn",
      "include_colab_link": true
    },
    "kernelspec": {
      "name": "python3",
      "display_name": "Python 3"
    },
    "language_info": {
      "name": "python"
    }
  },
  "cells": [
    {
      "cell_type": "markdown",
      "metadata": {
        "id": "view-in-github",
        "colab_type": "text"
      },
      "source": [
        "<a href=\"https://colab.research.google.com/github/shr968/marvel/blob/main/ID3.ipynb\" target=\"_parent\"><img src=\"https://colab.research.google.com/assets/colab-badge.svg\" alt=\"Open In Colab\"/></a>"
      ]
    },
    {
      "cell_type": "code",
      "execution_count": 4,
      "metadata": {
        "colab": {
          "base_uri": "https://localhost:8080/"
        },
        "id": "kPCGjSohgoUv",
        "outputId": "caf9f934-b298-436c-d715-52b5211ddf08"
      },
      "outputs": [
        {
          "output_type": "stream",
          "name": "stdout",
          "text": [
            "Decision Tree: {\n",
            "  \"0\": {\n",
            "    \"0\": 0,\n",
            "    \"1\": 1,\n",
            "    \"2\": {\n",
            "      \"0\": {\n",
            "        \"1\": 1,\n",
            "        \"2\": 0\n",
            "      }\n",
            "    }\n",
            "  }\n",
            "}\n"
          ]
        }
      ],
      "source": [
        "import numpy as np\n",
        "import pandas as pd\n",
        "from collections import Counter\n",
        "\n",
        "def entropy(y):\n",
        "    values, counts = np.unique(y, return_counts=True)\n",
        "    probs = counts / counts.sum()\n",
        "    return -np.sum(probs * np.log2(probs))\n",
        "\n",
        "def split_dataset(X, y, feature, value):\n",
        "    mask = X[:, feature] == value\n",
        "    return X[mask], y[mask]\n",
        "\n",
        "def best_attribute(X, y):\n",
        "    base_entropy = entropy(y)\n",
        "    best_gain = 0\n",
        "    best_feature = -1\n",
        "\n",
        "    for feature in range(X.shape[1]):\n",
        "        values = np.unique(X[:, feature])\n",
        "        new_entropy = sum(\n",
        "            (len(split_dataset(X, y, feature, v)[1]) / len(y)) * entropy(split_dataset(X, y, feature, v)[1])\n",
        "            for v in values\n",
        "        )\n",
        "        info_gain = base_entropy - new_entropy\n",
        "        if info_gain > best_gain:\n",
        "            best_gain = info_gain\n",
        "            best_feature = feature\n",
        "\n",
        "    return best_feature\n",
        "\n",
        "class DecisionTree:\n",
        "    def __init__(self):\n",
        "        self.tree = None\n",
        "\n",
        "    def fit(self, X, y):\n",
        "        self.tree = self._build_tree(X, y)\n",
        "\n",
        "    def _build_tree(self, X, y):\n",
        "        if len(set(y)) == 1:\n",
        "            return y[0]\n",
        "        if X.shape[1] == 0:\n",
        "            return Counter(y).most_common(1)[0][0]\n",
        "\n",
        "        best_feature = best_attribute(X, y)\n",
        "        tree = {best_feature: {}}\n",
        "\n",
        "        for value in np.unique(X[:, best_feature]):\n",
        "            X_sub, y_sub = split_dataset(X, y, best_feature, value)\n",
        "            tree[best_feature][value] = self._build_tree(\n",
        "                np.delete(X_sub, best_feature, axis=1), y_sub\n",
        "            )\n",
        "\n",
        "        return tree\n",
        "\n",
        "data = pd.DataFrame({\n",
        "    'Outlook': ['Sunny', 'Overcast', 'Rain', 'Rain', 'Overcast'],\n",
        "    'Temperature': ['Hot', 'Hot', 'Mild', 'Cool', 'Cool'],\n",
        "    'PlayTennis': ['No', 'Yes', 'Yes', 'No', 'Yes']\n",
        "})\n",
        "\n",
        "data = data.apply(lambda col: pd.factorize(col)[0])\n",
        "X, y = data.iloc[:, :-1].values, data.iloc[:, -1].values\n",
        "\n",
        "dt = DecisionTree()\n",
        "dt.fit(X, y)\n",
        "import json\n",
        "\n",
        "def convert_to_python_types(obj):\n",
        "    \"\"\" Recursively convert np.int64 keys and values to standard Python int. \"\"\"\n",
        "    if isinstance(obj, dict):\n",
        "        return {int(k): convert_to_python_types(v) for k, v in obj.items()}\n",
        "    elif isinstance(obj, np.integer):\n",
        "        return int(obj)\n",
        "    else:\n",
        "        return obj\n",
        "\n",
        "tree_python = convert_to_python_types(dt.tree)\n",
        "print(\"Decision Tree:\", json.dumps(tree_python, indent=2))\n",
        "\n"
      ]
    }
  ]
}